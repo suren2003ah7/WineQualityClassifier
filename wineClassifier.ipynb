{
 "cells": [
  {
   "cell_type": "markdown",
   "id": "c906722f",
   "metadata": {},
   "source": [
    "# Import Libraries"
   ]
  },
  {
   "cell_type": "code",
   "execution_count": 3,
   "id": "509c118d",
   "metadata": {},
   "outputs": [],
   "source": [
    "import numpy as np\n",
    "import pandas as pd"
   ]
  },
  {
   "cell_type": "markdown",
   "id": "1ba42295",
   "metadata": {},
   "source": [
    "# Import Data"
   ]
  },
  {
   "cell_type": "code",
   "execution_count": null,
   "id": "f8d0df4c",
   "metadata": {},
   "outputs": [],
   "source": [
    "wine_data = pd.read_csv(\"winequality-red.csv\")"
   ]
  },
  {
   "cell_type": "markdown",
   "id": "785a4aba",
   "metadata": {},
   "source": [
    "# Describe Data\n",
    "\n",
    "The data consists of 11 features and one target (output) value. The input features based on physicochemical tests are as follows:\n",
    "\n",
    "1 - **fixed acidity** - The term refers to the amount of acids which do not evaporate easily during fermentation and aging and end up in the final bottled wine. It is a positive real number measured in grams per liter (g/L). Usually, red wines have fixed acidity values between 4 g/L to 7 g/L, however this range is not strictly fixed.\n",
    "\n",
    "2 - **volatile acidity** - This feature is the counterpart of fixed acidity, however in this case it measures the amount of volatile acids in wine which are easily evaporating during fermentation and aging. Measured in g/L, usual values are between 0.3 g/L to 0.7 g/L.\n",
    "\n",
    "3 - **citric acid** - The amount of citric acid in wine, measured in g/L. Usual values range from 0 g/L to 1 g/L.\n",
    "\n",
    "4 - **residual sugar** - The amount of sugar left in wine after the fermentation process. It is used to balance acidity and makes red wine categorized into dry, semi-sweet and sweet variants. Once again, it is measured in g/L.\n",
    "\n",
    "5 - **chlorides** - The amount of chloride salts in red wine (typically NaCl). Measured in g/L, typical values range from 0.012 g/L to 0.1 g/L.\n",
    "\n",
    "6 - **free sulfur dioxide** - Free sulfur dioxide (SO₂) in wine is the portion of sulfur dioxide that is not bound to other molecules and is active as an antimicrobial and antioxidant. It is measured in milligrams per liter (mg/L) and has typical values from 1 mg/L to 30 mg/L.\n",
    "\n",
    "7 - **total sulfur dioxide** - Total sulfur dioxide in wine includes both free and bound forms of SO₂. Once again, it is measured in mg/L. Typical values range from 10 mg/L to 150 mg/L.\n",
    "\n",
    "8 - **density** - The density feature shows how close the wine molecules are located to each other, it measures how heavier or lighter the wine is compared to water. Density for wines is measure in grams per cubic centimeter (g/cm³). Typical values range from 0.99 g/cm³ to 1.003 g/cm³.\n",
    "\n",
    "9 - **pH** - This feature measures the concentration of positive hydrogen ions in wine, which in simple terms shows the acidity of wine. pH values range from 1 to 13, where a pH value of 7 means the substance in completely neutral, lower values indicate acidic environment, and higher values indicate a basic one. The feature has no measure of units. Typical values fall into the range from 3.2 to 3.6.\n",
    "\n",
    "10 - **sulphates** - The amount of sulphates in wine measured in g/L. Typical value range is from 0.3 g/L to 1 g/L.\n",
    "\n",
    "11 - **alcohol** - Finally, the last feature shows the percentage of alcohol (ethanol content) present in wine. It is measured in percents and has typical values between 12% to 14.5%.\n",
    "\n",
    "The output value is the **wine quality score**, which is an **integer** from 0 to 10. Lower scores represent poor wine quality, while high scores represent excellent quality.\n",
    "\n",
    "Find more information about the dataset and it's origins [here](https://www.kaggle.com/datasets/uciml/red-wine-quality-cortez-et-al-2009)."
   ]
  },
  {
   "cell_type": "markdown",
   "id": "744b4833",
   "metadata": {},
   "source": [
    "# Exploratory Data Analysis (EDA)"
   ]
  },
  {
   "cell_type": "code",
   "execution_count": null,
   "id": "b848aa0e",
   "metadata": {},
   "outputs": [],
   "source": [
    "# Satine Aghababyan"
   ]
  },
  {
   "cell_type": "markdown",
   "id": "7705c113",
   "metadata": {},
   "source": [
    "# Data preprocessing"
   ]
  },
  {
   "cell_type": "code",
   "execution_count": null,
   "id": "f849965f",
   "metadata": {},
   "outputs": [],
   "source": [
    "# Tigran Fahradyan"
   ]
  },
  {
   "cell_type": "markdown",
   "id": "ffe12c8f",
   "metadata": {},
   "source": [
    "# Modelling"
   ]
  },
  {
   "cell_type": "code",
   "execution_count": null,
   "id": "8d214c7c",
   "metadata": {},
   "outputs": [],
   "source": [
    "# kNN - Suren Hakobyan\n",
    "# Gaussian Naive Bayes - Satine Aghababyan\n",
    "# Logistic Regression - Suren Hakobyan\n",
    "# Decision Tree - Tigran Fahradyan\n",
    "# Random Forest - Satine Aghababyan\n",
    "# SVM - Suren Hakobyan\n",
    "# Neural Networks - Tigran Fahradyan\n",
    "# LDA - Satine Aghababyan\n",
    "# QDA - Suren Hakobyan\n"
   ]
  },
  {
   "cell_type": "markdown",
   "id": "91ee7229",
   "metadata": {},
   "source": [
    "# Model Evaluation"
   ]
  },
  {
   "cell_type": "code",
   "execution_count": null,
   "id": "5314d410",
   "metadata": {},
   "outputs": [],
   "source": [
    "# հետո կերևա"
   ]
  }
 ],
 "metadata": {
  "kernelspec": {
   "display_name": ".venv",
   "language": "python",
   "name": "python3"
  },
  "language_info": {
   "codemirror_mode": {
    "name": "ipython",
    "version": 3
   },
   "file_extension": ".py",
   "mimetype": "text/x-python",
   "name": "python",
   "nbconvert_exporter": "python",
   "pygments_lexer": "ipython3",
   "version": "3.13.3"
  }
 },
 "nbformat": 4,
 "nbformat_minor": 5
}
