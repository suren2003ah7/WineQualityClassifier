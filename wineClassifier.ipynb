{
 "cells": [
  {
   "cell_type": "markdown",
   "id": "c906722f",
   "metadata": {},
   "source": [
    "Import Libraries"
   ]
  },
  {
   "cell_type": "code",
   "execution_count": 3,
   "id": "509c118d",
   "metadata": {},
   "outputs": [],
   "source": [
    "import numpy as np\n",
    "import pandas as pd"
   ]
  },
  {
   "cell_type": "markdown",
   "id": "1ba42295",
   "metadata": {},
   "source": [
    "Import Data"
   ]
  },
  {
   "cell_type": "code",
   "execution_count": null,
   "id": "f8d0df4c",
   "metadata": {},
   "outputs": [],
   "source": [
    "wine_data = pd.read_csv(\"winequality-red.csv\")"
   ]
  },
  {
   "cell_type": "markdown",
   "id": "785a4aba",
   "metadata": {},
   "source": [
    "Describe Data"
   ]
  },
  {
   "cell_type": "code",
   "execution_count": null,
   "id": "bd29dcb8",
   "metadata": {},
   "outputs": [],
   "source": [
    "# Suren Hakobyan"
   ]
  },
  {
   "cell_type": "markdown",
   "id": "744b4833",
   "metadata": {},
   "source": [
    "Exploratory Data Analysis (EDA)"
   ]
  },
  {
   "cell_type": "code",
   "execution_count": null,
   "id": "b848aa0e",
   "metadata": {},
   "outputs": [],
   "source": [
    "# Satine Aghababyan"
   ]
  },
  {
   "cell_type": "markdown",
   "id": "7705c113",
   "metadata": {},
   "source": [
    "Data preprocessing"
   ]
  },
  {
   "cell_type": "code",
   "execution_count": null,
   "id": "f849965f",
   "metadata": {},
   "outputs": [],
   "source": [
    "# Tigran Fahradyan"
   ]
  },
  {
   "cell_type": "markdown",
   "id": "ffe12c8f",
   "metadata": {},
   "source": [
    "Modelling"
   ]
  },
  {
   "cell_type": "code",
   "execution_count": null,
   "id": "8d214c7c",
   "metadata": {},
   "outputs": [],
   "source": [
    "# kNN - Suren Hakobyan\n",
    "# Gaussian Naive Bayes - Satine Aghababyan\n",
    "# Logistic Regression - Suren Hakobyan\n",
    "# Decision Tree - Tigran Fahradyan\n",
    "# Random Forest - Satine Aghababyan\n",
    "# SVM - Suren Hakobyan\n",
    "# Neural Networks - Tigran Fahradyan\n",
    "# LDA - Satine Aghababyan\n",
    "# QDA - Suren Hakobyan\n"
   ]
  },
  {
   "cell_type": "markdown",
   "id": "91ee7229",
   "metadata": {},
   "source": [
    "Model Evaluation"
   ]
  },
  {
   "cell_type": "code",
   "execution_count": null,
   "id": "5314d410",
   "metadata": {},
   "outputs": [],
   "source": [
    "# հետո կերևա"
   ]
  }
 ],
 "metadata": {
  "kernelspec": {
   "display_name": ".venv",
   "language": "python",
   "name": "python3"
  },
  "language_info": {
   "codemirror_mode": {
    "name": "ipython",
    "version": 3
   },
   "file_extension": ".py",
   "mimetype": "text/x-python",
   "name": "python",
   "nbconvert_exporter": "python",
   "pygments_lexer": "ipython3",
   "version": "3.13.3"
  }
 },
 "nbformat": 4,
 "nbformat_minor": 5
}
