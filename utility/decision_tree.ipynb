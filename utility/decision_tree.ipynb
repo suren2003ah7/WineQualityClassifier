{
 "cells": [
  {
   "cell_type": "code",
   "execution_count": 30,
   "id": "514e800a-a3c4-4cf8-9645-e914571559cb",
   "metadata": {},
   "outputs": [],
   "source": [
    "from sklearn import tree\n",
    "from sklearn.model_selection import GridSearchCV\n",
    "\n",
    "import pandas as pd\n",
    "import numpy as np\n",
    "import random\n",
    "import math"
   ]
  },
  {
   "cell_type": "code",
   "execution_count": 31,
   "id": "7d21782e-a7e8-47ba-91b6-58582560da74",
   "metadata": {},
   "outputs": [],
   "source": [
    "wine_data = pd.read_csv(\"winequality-red.csv\")"
   ]
  },
  {
   "cell_type": "code",
   "execution_count": 32,
   "id": "65cc3008-ba1c-4c2b-86af-0e8db45f244f",
   "metadata": {},
   "outputs": [],
   "source": [
    "data = wine_data.to_numpy()\n",
    "\n",
    "def split_data(data, seed=42):\n",
    "    np.random.seed(seed)\n",
    "    indices = np.random.permutation(len(data))\n",
    "    \n",
    "    train_end = int(0.7 * len(data))\n",
    "    val_end = int(0.9 * len(data))\n",
    "\n",
    "    train = data[indices[:train_end]]\n",
    "    val = data[indices[train_end:val_end]]\n",
    "    test = data[indices[val_end:]]\n",
    "\n",
    "    return train, val, test\n",
    "\n",
    "def replace_nans(train, val, test):\n",
    "    train_mean = np.nanmean(train[:, :-1], axis=0)\n",
    "    for dataset in [train, val, test]:\n",
    "        for i in range(dataset.shape[1] - 1):\n",
    "            nan_mask = np.isnan(dataset[:, i])\n",
    "            dataset[nan_mask, i] = train_mean[i]\n",
    "    return train, val, test\n",
    "\n",
    "train, val, test = split_data(data, seed=42)\n",
    "train, val, test = replace_nans(train, val, test)\n",
    "\n",
    "X_train, y_train = train[:, :-1], train[:, -1].astype(int)\n",
    "X_val, y_val = val[:, :-1], val[:, -1].astype(int)\n",
    "X_test, y_test = test[:, :-1], test[:, -1].astype(int)"
   ]
  },
  {
   "cell_type": "code",
   "execution_count": 33,
   "id": "5de45d80-bc91-4726-872f-f967df2cc8cd",
   "metadata": {},
   "outputs": [
    {
     "data": {
      "text/plain": [
       "((1119, 11), (1119,))"
      ]
     },
     "execution_count": 33,
     "metadata": {},
     "output_type": "execute_result"
    }
   ],
   "source": [
    "X_train.shape, y_train.shape"
   ]
  },
  {
   "cell_type": "code",
   "execution_count": 50,
   "id": "bf37bb96-e9e5-4496-ab08-155a3e3b8395",
   "metadata": {},
   "outputs": [],
   "source": [
    "hparams = {\n",
    "    \"criterion\": [\"gini\", \"entropy\"],\n",
    "    \"splitter\": [\"best\", \"random\"],\n",
    "}\n",
    "\n",
    "decision_tree = tree.DecisionTreeClassifier(random_state=42)\n",
    "grid_search_decision_tree = GridSearchCV(\n",
    "    clf,\n",
    "    param_grid=hparams,\n",
    "    scoring=\"accuracy\",\n",
    "    cv=4 # number of cross validation folds\n",
    ")\n",
    "grid_search_decision_tree.fit(X_train, y_train);"
   ]
  },
  {
   "cell_type": "code",
   "execution_count": 51,
   "id": "3f08c4c5-6582-4c9b-b32a-beeadf7b1adb",
   "metadata": {},
   "outputs": [
    {
     "name": "stdout",
     "output_type": "stream",
     "text": [
      "The best hparam configuration for decision tree is {'criterion': 'gini', 'splitter': 'random'} with score 0.5424\n"
     ]
    }
   ],
   "source": [
    "best_decision_tree = grid_search_decision_tree.best_estimator_\n",
    "\n",
    "print(f\"The best hparam configuration for decision tree is {grid_search_decision_tree.best_params_} with score {grid_search_decision_tree.best_score_:.4f}\")"
   ]
  },
  {
   "cell_type": "code",
   "execution_count": null,
   "id": "585f88ce-1741-41d3-bd24-f4fb8d339f65",
   "metadata": {},
   "outputs": [],
   "source": []
  }
 ],
 "metadata": {
  "kernelspec": {
   "display_name": "Python 3 (ipykernel)",
   "language": "python",
   "name": "python3"
  },
  "language_info": {
   "codemirror_mode": {
    "name": "ipython",
    "version": 3
   },
   "file_extension": ".py",
   "mimetype": "text/x-python",
   "name": "python",
   "nbconvert_exporter": "python",
   "pygments_lexer": "ipython3",
   "version": "3.12.10"
  }
 },
 "nbformat": 4,
 "nbformat_minor": 5
}
