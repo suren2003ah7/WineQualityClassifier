{
 "cells": [
  {
   "cell_type": "code",
   "execution_count": 370,
   "id": "9b7a62d2-4553-4fc7-970e-b9b1c8e2016f",
   "metadata": {},
   "outputs": [],
   "source": [
    "import numpy as np\n",
    "import pandas as pd\n",
    "import matplotlib.pyplot as plt\n",
    "from sklearn.preprocessing import StandardScaler\n",
    "import seaborn as sns\n",
    "from tqdm import tqdm\n",
    "import gc\n",
    "\n",
    "import torch\n",
    "import torch.nn as nn\n",
    "import torch.optim as optim\n",
    "from torch.utils.data import DataLoader, TensorDataset"
   ]
  },
  {
   "cell_type": "code",
   "execution_count": 371,
   "id": "cd9a5c44-6cef-494c-81ac-4c64041e4d1f",
   "metadata": {},
   "outputs": [],
   "source": [
    "sns.set_style(\"whitegrid\")"
   ]
  },
  {
   "cell_type": "code",
   "execution_count": 372,
   "id": "37b41ec8-bbcb-44df-8fcd-01d01d21e5da",
   "metadata": {},
   "outputs": [],
   "source": [
    "wine_data = pd.read_csv(\"../winequality-red.csv\")"
   ]
  },
  {
   "cell_type": "code",
   "execution_count": 373,
   "id": "5ea4cd28-5104-4612-84c2-824d4b808212",
   "metadata": {},
   "outputs": [],
   "source": [
    "# Tigran Fahradyan\n",
    "data = wine_data.to_numpy()\n",
    "\n",
    "CV = 5\n",
    "\n",
    "def split_data(data, seed=42):\n",
    "    np.random.seed(seed)\n",
    "    indices = np.random.permutation(len(data))\n",
    "    \n",
    "    train_end = int(0.9 * len(data))\n",
    "\n",
    "    train = data[indices[:train_end]]\n",
    "    test = data[indices[train_end:]]\n",
    "\n",
    "    return train, test\n",
    "\n",
    "def replace_nans(train, test):\n",
    "    train_mean = np.nanmean(train[:, :-1], axis=0)\n",
    "    for dataset in [train, test]:\n",
    "        for i in range(dataset.shape[1] - 1):\n",
    "            nan_mask = np.isnan(dataset[:, i])\n",
    "            dataset[nan_mask, i] = train_mean[i]\n",
    "    return train, test\n",
    "\n",
    "train, test = split_data(data, seed=42)\n",
    "train, test = replace_nans(train, test)\n",
    "\n",
    "X_train, y_train = train[:, :-1], train[:, -1].astype(int)\n",
    "X_test, y_test = test[:, :-1], test[:, -1].astype(int)"
   ]
  },
  {
   "cell_type": "code",
   "execution_count": 374,
   "id": "3fa40d68-9717-4087-b652-cf86c0acfc3a",
   "metadata": {},
   "outputs": [],
   "source": [
    "scaler = StandardScaler()\n",
    "\n",
    "X_train_scaled = scaler.fit_transform(X_train)\n",
    "X_test_scaled = scaler.transform(X_test)"
   ]
  },
  {
   "cell_type": "code",
   "execution_count": 375,
   "id": "f5814575-1607-40e1-8fd8-52ecb79a2f6c",
   "metadata": {},
   "outputs": [],
   "source": [
    "# create validation dataset\n",
    "train_end = int(0.8 * len(X_train_scaled))\n",
    "X_valid_scaled, y_valid = X_train_scaled[train_end:], y_train[train_end:]\n",
    "X_train_scaled, y_train = X_train_scaled[:train_end], y_train[:train_end]"
   ]
  },
  {
   "cell_type": "code",
   "execution_count": 376,
   "id": "89d42395-f652-44ef-8f6f-f94b358e56cf",
   "metadata": {},
   "outputs": [],
   "source": [
    "device = \"cuda\" if torch.cuda.is_available() else \"cpu\""
   ]
  },
  {
   "cell_type": "code",
   "execution_count": 377,
   "id": "327fc8ed-d375-4b07-8923-ca4156389042",
   "metadata": {},
   "outputs": [],
   "source": [
    "def create_neural_network(hidden_sizes):\n",
    "    layers = []\n",
    "    for i in range(1, len(hidden_sizes)):\n",
    "        layers.append(nn.Linear(hidden_sizes[i - 1], hidden_sizes[i]))\n",
    "        if i != len(hidden_sizes) - 1:\n",
    "            layers.append(nn.ReLU())\n",
    "\n",
    "    return nn.Sequential(*layers).to(torch.float64)"
   ]
  },
  {
   "cell_type": "code",
   "execution_count": 378,
   "id": "e281c225-ca34-479e-8475-cbb159c21832",
   "metadata": {},
   "outputs": [],
   "source": [
    "def train_neural_network(\n",
    "    nn_hparams,\n",
    "    X_train_scaled,\n",
    "    y_train,\n",
    "    X_valid_scaled,\n",
    "    y_valid\n",
    "):\n",
    "    # create dataloaders\n",
    "    train_dataset = TensorDataset(torch.from_numpy(X_train_scaled), torch.from_numpy(y_train))\n",
    "    train_loader = DataLoader(train_dataset, batch_size=nn_hparams[\"batch_size\"], shuffle=True)\n",
    "    \n",
    "    model = create_neural_network(nn_hparams[\"hidden_sizes\"])\n",
    "    model = model.to(device)\n",
    "    print(model)\n",
    "\n",
    "    criterion = nn.CrossEntropyLoss()\n",
    "    optimizer = optim.SGD(\n",
    "        model.parameters(),\n",
    "        lr=nn_hparams[\"lr\"],\n",
    "        momentum=nn_hparams[\"momentum\"],\n",
    "        weight_decay=nn_hparams[\"weight_decay\"]\n",
    "    )\n",
    "\n",
    "    metrics = {\n",
    "        \"train_loss\": [],\n",
    "        \"valid_loss\": []\n",
    "    }\n",
    "\n",
    "    print(\"Training...\")\n",
    "    for epoch in tqdm(range(nn_hparams[\"num_epochs\"])):\n",
    "        model.train()\n",
    "        running_loss = 0.0\n",
    "        for i, (X_batch, y_batch) in enumerate(train_loader):\n",
    "            X_batch = X_batch.to(device)\n",
    "            y_batch = y_batch.to(device)\n",
    "            \n",
    "            optimizer.zero_grad()\n",
    "            logits = model(X_batch)\n",
    "            loss = criterion(logits, y_batch)\n",
    "            loss.backward()\n",
    "            optimizer.step()\n",
    "            running_loss += loss.detach().item()\n",
    "\n",
    "        model.eval()\n",
    "        # train_logits = model(torch.from_numpy(X_train_scaled))\n",
    "        # train_loss = criterion(train_logits, torch.from_numpy(y_train)).detach().item()\n",
    "        train_loss = running_loss / len(train_loader)\n",
    "        \n",
    "        valid_logits = model(torch.from_numpy(X_valid_scaled).to(device))\n",
    "        # print(valid_logits)\n",
    "        valid_loss = criterion(valid_logits, torch.from_numpy(y_valid).to(device)).detach().item()\n",
    "    \n",
    "        metrics[\"train_loss\"].append(train_loss)\n",
    "        metrics[\"valid_loss\"].append(valid_loss)\n",
    "        \n",
    "    # cleanup\n",
    "    gc.collect()\n",
    "    torch.cuda.empty_cache()\n",
    "\n",
    "    return model, metrics"
   ]
  },
  {
   "cell_type": "code",
   "execution_count": 426,
   "id": "a752502f-2964-436a-ac0f-69bab6b5db25",
   "metadata": {},
   "outputs": [
    {
     "name": "stdout",
     "output_type": "stream",
     "text": [
      "Sequential(\n",
      "  (0): Linear(in_features=11, out_features=24, bias=True)\n",
      "  (1): ReLU()\n",
      "  (2): Linear(in_features=24, out_features=10, bias=True)\n",
      ")\n",
      "Training...\n"
     ]
    },
    {
     "name": "stderr",
     "output_type": "stream",
     "text": [
      "100%|██████████████████████████████████████████████████████████████████████████████████████████████████████| 300/300 [00:03<00:00, 99.13it/s]\n"
     ]
    },
    {
     "data": {
      "image/png": "[encoded data removed]",
      "text/plain": [
       "<Figure size 640x480 with 1 Axes>"
      ]
     },
     "metadata": {},
     "output_type": "display_data"
    }
   ],
   "source": [
    "nn_hparams = {\n",
    "    \"batch_size\": 512,\n",
    "    \"lr\": 0.005,\n",
    "    \"momentum\": 0.9,\n",
    "    \"weight_decay\": 0.00,\n",
    "    \"num_epochs\": 300,\n",
    "    # \"hidden_sizes\": [X_train_scaled.shape[1], 24, 24, 10]\n",
    "    \"hidden_sizes\": [X_train_scaled.shape[1], 24, 10]\n",
    "}\n",
    "\n",
    "model, metrics = train_neural_network(\n",
    "    nn_hparams,\n",
    "    X_train_scaled=X_train_scaled,\n",
    "    y_train=y_train,\n",
    "    X_valid_scaled=X_valid_scaled,\n",
    "    y_valid=y_valid\n",
    ")\n",
    "\n",
    "plt.plot(metrics[\"train_loss\"], label=\"train loss\")\n",
    "plt.plot(metrics[\"valid_loss\"], label=\"valid loss\")\n",
    "plt.legend()\n",
    "plt.ylabel(\"Loss\")\n",
    "plt.xlabel(\"Epochs\")\n",
    "plt.show()"
   ]
  },
  {
   "cell_type": "code",
   "execution_count": 427,
   "id": "d1de5c72-e582-436a-a647-712cce41d591",
   "metadata": {},
   "outputs": [],
   "source": [
    "X_test_scaled = scaler.transform(X_test)"
   ]
  },
  {
   "cell_type": "code",
   "execution_count": 428,
   "id": "992d505b-5bea-4fc1-8208-134c4e72f7df",
   "metadata": {},
   "outputs": [],
   "source": [
    "model.eval()\n",
    "logits = model(torch.from_numpy(X_test_scaled).to(device))"
   ]
  },
  {
   "cell_type": "code",
   "execution_count": 429,
   "id": "dafc7b45-be00-4896-b204-31af30dc5d8c",
   "metadata": {},
   "outputs": [
    {
     "data": {
      "text/plain": [
       "tensor(0.6687)"
      ]
     },
     "execution_count": 429,
     "metadata": {},
     "output_type": "execute_result"
    }
   ],
   "source": [
    "(torch.argmax(logits, dim=1) == torch.from_numpy(y_test).to(device)).sum() / len(y_test)"
   ]
  },
  {
   "cell_type": "code",
   "execution_count": null,
   "id": "41213cbe-07cd-4473-a778-19fed7495cdf",
   "metadata": {},
   "outputs": [],
   "source": []
  }
 ],
 "metadata": {
  "kernelspec": {
   "display_name": "Python 3 (ipykernel)",
   "language": "python",
   "name": "python3"
  },
  "language_info": {
   "codemirror_mode": {
    "name": "ipython",
    "version": 3
   },
   "file_extension": ".py",
   "mimetype": "text/x-python",
   "name": "python",
   "nbconvert_exporter": "python",
   "pygments_lexer": "ipython3",
   "version": "3.12.10"
  }
 },
 "nbformat": 4,
 "nbformat_minor": 5
}
